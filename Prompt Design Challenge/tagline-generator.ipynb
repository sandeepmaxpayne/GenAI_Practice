{
 "cells": [
  {
   "cell_type": "code",
   "execution_count": 3,
   "id": "408daf4d-261d-4189-93de-115d4fe05df4",
   "metadata": {
    "tags": []
   },
   "outputs": [
    {
     "name": "stdout",
     "output_type": "stream",
     "text": [
      "##\n",
      " Taglines for Cymbal Direct's New Outdoor Gear Line:\n",
      "\n",
      "**Focusing\n",
      " on Durability and Lightweight Design:**\n",
      "\n",
      "* **Gear Up, Go Far: Built\n",
      " for young explorers, light enough for any adventure.**\n",
      "* **Durable dreams, lightweight design: Exploring nature has never been easier.**\n",
      "* **Tough enough for\n",
      " the trail, light enough for little hands.**\n",
      "* **Big adventures, small packages: Durable gear designed for young explorers on the move.**\n",
      "\n",
      "**Highlighting\n",
      " Young Adventurers and Families:**\n",
      "\n",
      "* **Inspiring the next generation of outdoor enthusiasts.**\n",
      "* **Creating memories, one adventure at a time.**\n",
      "* **Family fun, built to last: Sharing the love of the outdoors, together\n",
      ".**\n",
      "* **Adventure awaits: Gear the whole family can enjoy.**\n",
      "\n",
      "**Emphasizing Empowerment and Nature:**\n",
      "\n",
      "* **Unleash their inner explorer: Gear that empowers them to connect with nature.**\n",
      "* **Discover the wild\n",
      " side: Where adventure meets imagination.**\n",
      "* **Building confidence, step by step, on the trail to discovery.**\n",
      "* **Nature is calling: Answer the call with gear designed for young adventurers.**\n",
      "\n",
      "**Bonus Taglines:**\n",
      "\n",
      "* **Cymbal Direct & [Partner Name]: Equipping the next generation of outdoor\n",
      " enthusiasts.**\n",
      "* **Lighten the load, ignite the adventure.** \n",
      "* **Built for little explorers with big dreams.**\n",
      "\n",
      "**Remember to adapt the taglines to best suit the specific products being offered and the overall branding strategy.** \n",
      "\n"
     ]
    }
   ],
   "source": [
    "from vertexai.preview.generative_models import GenerativeModel\n",
    "\n",
    "model = GenerativeModel(\"gemini-1.5-pro\")\n",
    "\n",
    "prompt = \"\"\"\n",
    "Cymbal Direct is partnering with an outdoor gear retailer. They\\'re launching a new line of products designed to encourage young people to explore the outdoors. Help them create catchy taglines for this product line.\n",
    "\n",
    "input: Product attributes\n",
    "output: durable, lightweight\n",
    "\n",
    "input: Target audience\n",
    "output: young adventurers, families\n",
    "\n",
    "input: Emotional resonance\n",
    "output: empowered, nature\n",
    "\"\"\"\n",
    "\n",
    "responses = model.generate_content(\n",
    "    prompt,\n",
    "    generation_config={\n",
    "        \"temperature\": 1,\n",
    "        \"max_output_tokens\": 2048,\n",
    "        \"top_p\": 1.0,\n",
    "        \"top_k\": 40,\n",
    "    },\n",
    "    stream=True\n",
    "    )\n",
    "\n",
    "for response in responses:\n",
    "    print(response.text)"
   ]
  },
  {
   "cell_type": "code",
   "execution_count": null,
   "id": "c1b5cab6-75f9-4797-bded-f88169f4ea7d",
   "metadata": {},
   "outputs": [],
   "source": []
  }
 ],
 "metadata": {
  "environment": {
   "kernel": "conda-base-py",
   "name": "workbench-notebooks.m126",
   "type": "gcloud",
   "uri": "us-docker.pkg.dev/deeplearning-platform-release/gcr.io/workbench-notebooks:m126"
  },
  "kernelspec": {
   "display_name": "Python 3 (ipykernel) (Local)",
   "language": "python",
   "name": "conda-base-py"
  },
  "language_info": {
   "codemirror_mode": {
    "name": "ipython",
    "version": 3
   },
   "file_extension": ".py",
   "mimetype": "text/x-python",
   "name": "python",
   "nbconvert_exporter": "python",
   "pygments_lexer": "ipython3",
   "version": "3.10.15"
  }
 },
 "nbformat": 4,
 "nbformat_minor": 5
}
