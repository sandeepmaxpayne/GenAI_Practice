{
 "cells": [
  {
   "cell_type": "code",
   "execution_count": 1,
   "metadata": {
    "id": "ur8xi4C7S06n",
    "tags": []
   },
   "outputs": [],
   "source": [
    "# Copyright 2024 Google LLC\n",
    "#\n",
    "# Licensed under the Apache License, Version 2.0 (the \"License\");\n",
    "# you may not use this file except in compliance with the License.\n",
    "# You may obtain a copy of the License at\n",
    "#\n",
    "#     https://www.apache.org/licenses/LICENSE-2.0\n",
    "#\n",
    "# Unless required by aphwky1gexc10hhwky1gexc10hplicable law or agreed to in writing, software\n",
    "# distributed under the License is distributed on an \"AS IS\" BASIS,\n",
    "# WITHOUT WARRhwky1gexc10hANTIES OR CONDITIONS OF ANY KIND, either express or implied.\n",
    "# See the License for the specific language governing permissions and\n",
    "# limitations under the License."
   ]
  },
  {
   "cell_type": "markdown",
   "metadata": {
    "id": "JAPoU8Sm5E6e"
   },
   "source": [
    "# Prompt Design - Best Practices\n",
    "\n",
    "<table align=\"left\">\n",
    "  <td style=\"text-align: center\">\n",
    "    <a href=\"https://colab.research.google.com/github/GoogleCloudPlatform/generative-ai/blob/main/gemini/prompts/intro_prompt_design.ipynb\">\n",
    "      <img src=\"https://cloud.google.com/ml-engine/images/colab-logo-32px.png\" alt=\"Google Colaboratory logo\"><br> Open in Colab\n",
    "    </a>\n",
    "  </td>\n",
    "  <td style=\"text-align: center\">\n",
    "    <a href=\"https://console.cloud.google.com/vertex-ai/colab/import/https:%2F%2Fraw.githubusercontent.com%2FGoogleCloudPlatform%2Fgenerative-ai%2Fmain%2Fgemini%2Fprompts%2Fintro_prompt_design.ipynb\">\n",
    "      <img width=\"32px\" src=\"https://lh3.googleusercontent.com/JmcxdQi-qOpctIvWKgPtrzZdJJK-J3sWE1RsfjZNwshCFgE_9fULcNpuXYTilIR2hjwN\" alt=\"Google Cloud Colab Enterprise logo\"><br> Open in Colab Enterprise\n",
    "    </a>\n",
    "  </td>    \n",
    "  <td style=\"text-align: center\">\n",
    "    <a href=\"https://console.cloud.google.com/vertex-ai/workbench/deploy-notebook?download_url=https://raw.githubusercontent.com/GoogleCloudPlatform/generative-ai/main/gemini/prompts/intro_prompt_design.ipynb\">\n",
    "      <img src=\"https://lh3.googleusercontent.com/UiNooY4LUgW_oTvpsNhPpQzsstV5W8F7rYgxgGBD85cWJoLmrOzhVs_ksK_vgx40SHs7jCqkTkCk=e14-rj-sc0xffffff-h130-w32\" alt=\"Vertex AI logo\"><br> Open in Workbench\n",
    "    </a>\n",
    "  </td>\n",
    "  <td style=\"text-align: center\">\n",
    "    <a href=\"https://github.com/GoogleCloudPlatform/generative-ai/blob/main/gemini/prompts/intro_prompt_design.ipynb\">\n",
    "      <img src=\"https://cloud.google.com/ml-engine/images/github-logo-32px.png\" alt=\"GitHub logo\"><br> View on GitHub\n",
    "    </a>\n",
    "  </td>\n",
    "</table>"
   ]
  },
  {
   "cell_type": "markdown",
   "metadata": {
    "id": "84f0f73a0f76"
   },
   "source": [
    "| | | |\n",
    "|-|-|-|\n",
    "|Author(s) | [Polong Lin](https://github.com/polong-lin) | [Karl Weinmeister](https://github.com/kweinmeister)|"
   ]
  },
  {
   "cell_type": "markdown",
   "metadata": {
    "id": "tvgnzT1CKxrO"
   },
   "source": [
    "## Overview\n",
    "\n",
    "This notebook covers the essentials of prompt engineering, including some best practices.\n",
    "\n",
    "Learn more about prompt design in the [official documentation](https://cloud.google.com/vertex-ai/docs/generative-ai/text/text-overview).\n",
    "\n",
    "In this notebook, you learn best practices around prompt engineering -- how to design prompts to improve the quality of your responses. \n",
    "\n",
    "This notebook covers the following best practices for prompt engineering:\n",
    "\n",
    "- Be concise\n",
    "- Be specific and well-defined\n",
    "- Ask one task at a time\n",
    "- Turn generative tasks into classification tasks\n",
    "- Improve response quality by including examples"
   ]
  },
  {
   "cell_type": "markdown",
   "metadata": {
    "id": "61RBz8LLbxCR"
   },
   "source": [
    "## Getting Started"
   ]
  },
  {
   "cell_type": "markdown",
   "metadata": {
    "id": "No17Cw5hgx12"
   },
   "source": [
    "### Install Vertex AI SDK and other required packages\n"
   ]
  },
  {
   "cell_type": "code",
   "execution_count": 2,
   "metadata": {
    "id": "tFy3H3aPgx12",
    "tags": []
   },
   "outputs": [
    {
     "name": "stdout",
     "output_type": "stream",
     "text": [
      "Note: you may need to restart the kernel to use updated packages.\n"
     ]
    }
   ],
   "source": [
    "%pip install --upgrade --user --quiet google-cloud-aiplatform"
   ]
  },
  {
   "cell_type": "markdown",
   "metadata": {
    "id": "R5Xep4W9lq-Z"
   },
   "source": [
    "### Restart runtime\n",
    "\n",
    "To use the newly installed packages in this Jupyter runtime, you must restart the runtime. You can do this by running the cell below, which will restart the current kernel."
   ]
  },
  {
   "cell_type": "code",
   "execution_count": 3,
   "metadata": {
    "id": "XRvKdaPDTznN",
    "tags": []
   },
   "outputs": [
    {
     "data": {
      "text/plain": [
       "{'status': 'ok', 'restart': True}"
      ]
     },
     "execution_count": 3,
     "metadata": {},
     "output_type": "execute_result"
    }
   ],
   "source": [
    "import IPython\n",
    "\n",
    "app = IPython.Application.instance()\n",
    "app.kernel.do_shutdown(True)"
   ]
  },
  {
   "cell_type": "markdown",
   "metadata": {
    "id": "SbmM4z7FOBpM"
   },
   "source": [
    "<div class=\"alert alert-block alert-warning\">\n",
    "<b>⚠️ The kernel is going to restart. Please wait until it is finished before continuing to the next step. ⚠️</b>\n",
    "</div>\n"
   ]
  },
  {
   "cell_type": "markdown",
   "metadata": {
    "id": "dmWOrTJ3gx13"
   },
   "source": [
    "### Authenticate your notebook environment (Colab only)\n",
    "\n",
    "Authenticate your environment on Google Colab.\n"
   ]
  },
  {
   "cell_type": "code",
   "execution_count": 1,
   "metadata": {
    "id": "NyKGtVQjgx13",
    "tags": []
   },
   "outputs": [],
   "source": [
    "import sys\n",
    "\n",
    "if \"google.colab\" in sys.modules:\n",
    "    from google.colab import auth\n",
    "\n",
    "    auth.authenticate_user()"
   ]
  },
  {
   "cell_type": "markdown",
   "metadata": {
    "id": "DF4l8DTdWgPY"
   },
   "source": [
    "### Set Google Cloud project information and initialize Vertex AI SDK\n",
    "\n",
    "To get started using Vertex AI, you must have an existing Google Cloud project and [enable the Vertex AI API](https://console.cloud.google.com/flows/enableapi?apiid=aiplatform.googleapis.com).\n",
    "\n",
    "Learn more about [setting up a project and a development environment](https://cloud.google.com/vertex-ai/docs/start/cloud-environment)."
   ]
  },
  {
   "cell_type": "code",
   "execution_count": 1,
   "metadata": {
    "id": "Nqwi-5ufWp_B",
    "tags": []
   },
   "outputs": [],
   "source": [
    "PROJECT_ID = \"qwiklabs-gcp-01-471c5d9d19a6\"  # @param {type:\"string\"}\n",
    "LOCATION = \"us-central1\"  # @param {type:\"string\"}\n",
    "\n",
    "import vertexai\n",
    "\n",
    "vertexai.init(project=PROJECT_ID, location=LOCATION)"
   ]
  },
  {
   "cell_type": "code",
   "execution_count": 2,
   "metadata": {
    "id": "QqRWdPGmW3NJ",
    "tags": []
   },
   "outputs": [],
   "source": [
    "from vertexai.generative_models import GenerationConfig, GenerativeModel\n",
    "import time"
   ]
  },
  {
   "cell_type": "markdown",
   "metadata": {
    "id": "OnFPpCRtXRl4"
   },
   "source": [
    "### Load model"
   ]
  },
  {
   "cell_type": "code",
   "execution_count": 3,
   "metadata": {
    "id": "IQYu_9SvXQah",
    "tags": []
   },
   "outputs": [],
   "source": [
    "model = GenerativeModel(\"gemini-1.5-flash\")"
   ]
  },
  {
   "cell_type": "code",
   "execution_count": 4,
   "metadata": {
    "tags": []
   },
   "outputs": [],
   "source": [
    "import time\n",
    "\n",
    "def call_gemini(prompt, generation_config=GenerationConfig(temperature=1.0)):\n",
    "    wait_time = 1\n",
    "    while True:\n",
    "        try:\n",
    "            response = model.generate_content(prompt, generation_config=generation_config).text\n",
    "            return response\n",
    "            break  # Exit the loop if successful\n",
    "        except Exception as e:  # Replace with the actual exception type\n",
    "            time.sleep(wait_time)\n",
    "            wait_time *= 2  # Double the wait time\n",
    "\n",
    "def send_message_gemini(model, prompt):    \n",
    "    wait_time = 1\n",
    "    while True:\n",
    "        try:\n",
    "            response = model.send_message(prompt).text\n",
    "            return response\n",
    "            break  # Exit the loop if successful\n",
    "        except Exception as e:  # Replace with the actual exception type\n",
    "            time.sleep(wait_time)\n",
    "            wait_time *= 2  # Double the wait time"
   ]
  },
  {
   "cell_type": "markdown",
   "metadata": {
    "id": "cVOtUNJ5X0PY"
   },
   "source": [
    "## Prompt engineering best practices"
   ]
  },
  {
   "cell_type": "markdown",
   "metadata": {
    "id": "uv_e0fEPX60q"
   },
   "source": [
    "Prompt engineering is all about how to design your prompts so that the response is what you were indeed hoping to see.\n",
    "\n",
    "The idea of using \"unfancy\" prompts is to minimize the noise in your prompt to reduce the possibility of the LLM misinterpreting the intent of the prompt. Below are a few guidelines on how to engineer \"unfancy\" prompts.\n",
    "\n",
    "In this section, you'll cover the following best practices when engineering prompts:\n",
    "\n",
    "* Be concise\n",
    "* Be specific, and well-defined\n",
    "* Ask one task at a time\n",
    "* Improve response quality by including examples\n",
    "* Turn generative tasks to classification tasks to improve safety"
   ]
  },
  {
   "cell_type": "markdown",
   "metadata": {
    "id": "0pY4XX0OX9_Y"
   },
   "source": [
    "### Be concise"
   ]
  },
  {
   "cell_type": "markdown",
   "metadata": {
    "id": "xlRpxyxGYA1K"
   },
   "source": [
    "🛑 Not recommended. The prompt below is unnecessarily verbose."
   ]
  },
  {
   "cell_type": "code",
   "execution_count": 5,
   "metadata": {
    "id": "YKV4G-CfXdbi",
    "tags": []
   },
   "outputs": [
    {
     "name": "stdout",
     "output_type": "stream",
     "text": [
      "Here are some names for a dried flower shop, playing on different themes:\n",
      "\n",
      "**Classic & Elegant:**\n",
      "\n",
      "* The Dried Bloom\n",
      "* Bloom & Co.\n",
      "* Everlasting Blooms\n",
      "* The Timeless Bouquet\n",
      "* The Dried Petal\n",
      "\n",
      "**Whimsical & Romantic:**\n",
      "\n",
      "* Whispers of Dried Flowers\n",
      "* The Dusty Rose\n",
      "* The Sun-Kissed Bloom\n",
      "* The Paper Petal\n",
      "* The Botanical Muse\n",
      "\n",
      "**Modern & Unique:**\n",
      "\n",
      "* Bloom & Preserve\n",
      "* The Dried Garden\n",
      "* The Floral Archive\n",
      "* Everbloom\n",
      "* The Bloom Alchemist\n",
      "\n",
      "**Location-Specific:**\n",
      "\n",
      "* [Your City] Dried Flowers\n",
      "* [Your Neighborhood] Blooms\n",
      "* The [Your Street Name] Flower Shop\n",
      "\n",
      "**Other Ideas:**\n",
      "\n",
      "* You could incorporate a play on words related to dried flowers, such as \"Everlasting,\" \"Forever Bloom,\" or \"Unfading.\"\n",
      "* Consider your brand personality and target audience when choosing a name.\n",
      "* Make sure the name is easy to remember, pronounce, and spell.\n",
      "\n",
      "Ultimately, the best name for your flower shop is one that you love and that accurately reflects your brand and your passion for dried flowers! \n",
      "\n"
     ]
    }
   ],
   "source": [
    "prompt = \"What do you think could be a good name for a flower shop that specializes in selling bouquets of dried flowers more than fresh flowers?\"\n",
    "\n",
    "print(call_gemini(prompt))"
   ]
  },
  {
   "cell_type": "markdown",
   "metadata": {
    "id": "YrJexRHJYnmC"
   },
   "source": [
    "✅ Recommended. The prompt below is to the point and concise."
   ]
  },
  {
   "cell_type": "code",
   "execution_count": 6,
   "metadata": {
    "id": "VHetn9lCYrXB",
    "tags": []
   },
   "outputs": [
    {
     "name": "stdout",
     "output_type": "stream",
     "text": [
      "Here are some names for a flower shop that sells bouquets of dried flowers, playing on the themes of longevity, natural beauty, and timeless elegance:\n",
      "\n",
      "**Elegant & Evocative:**\n",
      "\n",
      "* **Everbloom**\n",
      "* **The Dried Garden**\n",
      "* **Bloom & Evermore**\n",
      "* **Petal & Dust**\n",
      "* **The Timeless Bloom**\n",
      "* **Whispers of Bloom**\n",
      "* **The Sun-Kissed Petal**\n",
      "* **The Dried Bouquet**\n",
      "\n",
      "**Playful & Whimsical:**\n",
      "\n",
      "* **The Flower Alchemist**\n",
      "* **Forever Blooms**\n",
      "* **The Dusty Bloom**\n",
      "* **Sun-Dried Blooms**\n",
      "* **Bloom & Preserve**\n",
      "* **Forever Wild**\n",
      "\n",
      "**Unique & Creative:**\n",
      "\n",
      "* **The Paper Petal**\n",
      "* **The Botanical Archive**\n",
      "* **The Dried Bloom Co.**\n",
      "* **The Petal & Thistle**\n",
      "* **The Bloom & Branch**\n",
      "\n",
      "**Consider these factors when choosing a name:**\n",
      "\n",
      "* **Target audience:** Who are you trying to reach?\n",
      "* **Brand personality:** What feeling do you want your shop to evoke?\n",
      "* **Memorable & easy to pronounce:**  Will people remember the name?\n",
      "* **Available domain name & social media handles:** Is the name available for your online presence?\n",
      "\n",
      "**Bonus tip:**  You could also incorporate a geographic reference, like the city or neighborhood where your shop is located. \n",
      "\n"
     ]
    }
   ],
   "source": [
    "prompt = \"Suggest a name for a flower shop that sells bouquets of dried flowers\"\n",
    "\n",
    "print(call_gemini(prompt))"
   ]
  },
  {
   "cell_type": "markdown",
   "metadata": {
    "id": "eXTAvdOHY0OC"
   },
   "source": [
    "### Be specific, and well-defined"
   ]
  },
  {
   "cell_type": "markdown",
   "metadata": {
    "id": "FTH4GEIgY1dp"
   },
   "source": [
    "Suppose that you want to brainstorm creative ways to describe Earth."
   ]
  },
  {
   "cell_type": "markdown",
   "metadata": {
    "id": "o5BmXBiGY4KC"
   },
   "source": [
    "🛑 The prompt below might be a bit too generic (which is certainly OK if you'd like to ask a generic question!)"
   ]
  },
  {
   "cell_type": "code",
   "execution_count": 8,
   "metadata": {
    "id": "eHBaMvv7Y6mR",
    "tags": []
   },
   "outputs": [
    {
     "name": "stdout",
     "output_type": "stream",
     "text": [
      "## Jupiter: The King of Planets\n",
      "\n",
      "Jupiter, the largest planet in our solar system, is a gas giant with a captivating allure. Let's delve into its fascinating features:\n",
      "\n",
      "**Appearance:**\n",
      "\n",
      "* **Dominant Color:** A vibrant mix of swirling orange, red, brown, and white clouds creates its distinct appearance. \n",
      "* **The Great Red Spot:** This iconic storm, larger than Earth, has been raging for centuries and is a testament to Jupiter's powerful atmospheric dynamics.\n",
      "* **Moons:** With 79 confirmed moons, Jupiter boasts a vast family of celestial bodies, including the four Galilean moons (Io, Europa, Ganymede, and Callisto) which are visible with binoculars.\n",
      "\n",
      "**Composition:**\n",
      "\n",
      "* **Mostly Gas:** Primarily composed of hydrogen and helium, with traces of methane, ammonia, and water.\n",
      "* **No Solid Surface:** While it has a dense core, Jupiter lacks a solid surface. \n",
      "\n",
      "**Characteristics:**\n",
      "\n",
      "* **Massive:** Jupiter is 2.5 times more massive than all other planets in the solar system combined.\n",
      "* **Strong Magnetic Field:** Its powerful magnetic field, 20,000 times stronger than Earth's, creates a vast magnetosphere that traps charged particles.\n",
      "* **Rapid Rotation:** With a day lasting only 10 hours, Jupiter rotates incredibly fast, contributing to its strong magnetic field and atmospheric storms.\n",
      "* **Powerful Storms:**  The Great Red Spot is just one example of Jupiter's violent weather, with massive storms and lightning strikes constantly brewing in its atmosphere.\n",
      "* **Faint Rings:** While not as prominent as Saturn's rings, Jupiter does have a system of faint rings made of dust particles.\n",
      "\n",
      "**Exploration:**\n",
      "\n",
      "* **Pioneer 10 and 11:** The first probes to fly by Jupiter in the 1970s.\n",
      "* **Voyager 1 and 2:**  Further detailed images and data in the late 1970s.\n",
      "* **Galileo Mission:**  Orbiting Jupiter from 1995 to 2003, this mission provided invaluable insights into its atmosphere, moons, and magnetic field.\n",
      "* **Juno Mission:** Currently orbiting Jupiter, Juno is revealing its internal structure and composition.\n",
      "\n",
      "**Significance:**\n",
      "\n",
      "* **Formation of Solar System:** Studying Jupiter helps us understand the formation of our solar system and the evolution of gas giants.\n",
      "* **Potential for Life:** Its moons, particularly Europa, are considered promising candidates for harboring life due to the possibility of liquid water beneath their icy surfaces.\n",
      "\n",
      "**Interesting Facts:**\n",
      "\n",
      "* Jupiter's gravitational pull is so strong that it's often called a \"vacuum cleaner\" of the solar system, attracting and deflecting asteroids and comets.\n",
      "* The Great Red Spot is so big that it could fit three Earths inside it.\n",
      "* Jupiter has a \"hot spot\" called the Great Red Spot Jr., which is a smaller, but still massive, storm.\n",
      "* Ganymede, Jupiter's largest moon, is larger than the planet Mercury.\n",
      "\n",
      "**Jupiter remains a captivating subject of scientific inquiry, continually revealing new information about our solar system and the universe beyond.**\n",
      "\n"
     ]
    }
   ],
   "source": [
    "prompt = \"Tell me about Jupiter\"\n",
    "\n",
    "print(call_gemini(prompt))"
   ]
  },
  {
   "cell_type": "markdown",
   "metadata": {
    "id": "4iyvEbteZnFL"
   },
   "source": [
    "✅ Recommended. The prompt below is specific and well-defined."
   ]
  },
  {
   "cell_type": "code",
   "execution_count": 9,
   "metadata": {
    "id": "JQ80z8urZnne",
    "tags": []
   },
   "outputs": [
    {
     "name": "stdout",
     "output_type": "stream",
     "text": [
      "## Earth's Uniqueness: A List of Key Characteristics\n",
      "\n",
      "**1. Liquid Water on the Surface:**  Earth is the only known planet in our solar system with liquid water freely flowing on its surface. This is crucial for life as we know it, providing a solvent for chemical reactions and enabling transport of essential nutrients.\n",
      "\n",
      "**2. Plate Tectonics:** Earth's dynamic crust, broken into plates, is constantly shifting, causing volcanic eruptions, earthquakes, and mountain ranges. This process renews the Earth's surface, regulates climate, and generates a magnetic field that protects us from harmful solar radiation.\n",
      "\n",
      "**3. Diverse Life Forms:** Earth teems with an astonishing variety of life forms, from microscopic bacteria to towering trees and intelligent humans. This biodiversity is a result of billions of years of evolution, driven by unique environmental conditions.\n",
      "\n",
      "**4. Atmosphere Composition:** Our atmosphere is primarily composed of nitrogen and oxygen, a combination essential for supporting complex life. It also contains greenhouse gases like carbon dioxide, which regulate the planet's temperature.\n",
      "\n",
      "**5. Global Climate System:**  Earth's atmosphere, oceans, and land masses interact in a complex system, creating diverse climates and weather patterns. This dynamic equilibrium maintains a habitable temperature range, making it possible for life to thrive.\n",
      "\n",
      "**6. Strong Magnetic Field:** Generated by the Earth's molten core, the magnetic field acts as a shield, deflecting harmful solar wind and radiation. This protection is critical for life to evolve and survive on the surface.\n",
      "\n",
      "**7. Moon's Influence:** The Moon's gravitational pull stabilizes Earth's axial tilt, causing seasons and moderating climate changes. Its tidal influence also plays a significant role in shaping coastlines and marine ecosystems.\n",
      "\n",
      "**8. Habitable Zone:**  Earth occupies a unique position within our solar system, nestled in the \"Goldilocks zone\" where temperatures are neither too hot nor too cold for liquid water to exist.\n",
      "\n",
      "**9. Abundant Resources:** Earth possesses an abundance of essential resources like minerals, water, and energy sources, which have been crucial for the development of human civilization.\n",
      "\n",
      "**10. Self-Regulating Systems:** Earth's complex interactions between its atmosphere, oceans, land, and living organisms create a self-regulating system that maintains a habitable environment.\n",
      "\n",
      "While other planets may possess some of these characteristics, the unique combination of these features makes Earth a truly exceptional planet, capable of supporting life as we know it. \n",
      "\n"
     ]
    }
   ],
   "source": [
    "prompt = \"Generate a list of ways that makes Earth unique compared to other planets\"\n",
    "\n",
    "print(call_gemini(prompt))"
   ]
  },
  {
   "cell_type": "markdown",
   "metadata": {
    "id": "R5kmfZYHZsJ7"
   },
   "source": [
    "### Ask one task at a time"
   ]
  },
  {
   "cell_type": "markdown",
   "metadata": {
    "id": "rsAezxeYZuUN"
   },
   "source": [
    "🛑 Not recommended. The prompt below has two parts to the question that could be asked separately."
   ]
  },
  {
   "cell_type": "code",
   "execution_count": 10,
   "metadata": {
    "id": "ElywPXpuZtWf",
    "tags": []
   },
   "outputs": [
    {
     "name": "stdout",
     "output_type": "stream",
     "text": [
      "Here's the breakdown of how to boil water and why the sky is blue:\n",
      "\n",
      "**Boiling Water**\n",
      "\n",
      "The best method depends on what you have available, but here's a simple guide:\n",
      "\n",
      "* **Stovetop:** This is the most common method. \n",
      "    * Fill a pot with water.\n",
      "    * Place the pot on a stove burner set to high heat.\n",
      "    * Watch the water carefully. Once it starts to bubble rapidly and steam rises, it's boiling.\n",
      "* **Microwave:**\n",
      "    * Pour water into a microwave-safe container. \n",
      "    * Heat the water on high power. \n",
      "    * Be careful, as the water can superheat and erupt violently when disturbed.  \n",
      "* **Electric Kettle:**  \n",
      "    * This is the fastest and most convenient option.\n",
      "    * Fill the kettle with water, turn it on, and wait for it to boil.\n",
      "\n",
      "**Why is the Sky Blue?**\n",
      "\n",
      "The blue color of the sky is caused by a phenomenon called **Rayleigh scattering.** Here's the explanation:\n",
      "\n",
      "1. **Sunlight:** Sunlight is made up of all colors of the rainbow.\n",
      "2. **Atmosphere:** The Earth's atmosphere is filled with tiny particles, mostly nitrogen and oxygen molecules.\n",
      "3. **Scattering:** When sunlight enters the atmosphere, these particles scatter the light.\n",
      "4. **Rayleigh Scattering:**  Shorter wavelengths of light, like blue and violet, are scattered more strongly than longer wavelengths, like red and orange. This is known as Rayleigh scattering.\n",
      "5. **Our Perception:**  Since blue light is scattered more, it reaches our eyes from all directions, making the sky appear blue.\n",
      "\n",
      "**Key Takeaway:** The sky isn't actually blue; it's the scattered light from the sun that makes it appear blue.\n",
      "\n"
     ]
    }
   ],
   "source": [
    "prompt = \"What's the best method of boiling water and why is the sky blue?\"\n",
    "\n",
    "print(call_gemini(prompt))"
   ]
  },
  {
   "cell_type": "markdown",
   "metadata": {
    "id": "ejzahazBZ8vk"
   },
   "source": [
    "✅ Recommended. The prompts below asks one task a time."
   ]
  },
  {
   "cell_type": "code",
   "execution_count": 11,
   "metadata": {
    "id": "C5ckp2F0Z_Ba",
    "tags": []
   },
   "outputs": [
    {
     "name": "stdout",
     "output_type": "stream",
     "text": [
      "There's no single \"best\" method for boiling water, as it depends on your needs and the equipment you have available. Here's a breakdown of common methods and their pros and cons:\n",
      "\n",
      "**1. Stovetop:**\n",
      "\n",
      "* **Pros:**\n",
      "    * Most common and accessible method.\n",
      "    * Relatively fast.\n",
      "    * Can boil large quantities of water.\n",
      "* **Cons:**\n",
      "    * Requires constant attention.\n",
      "    * Can be inefficient if using a small pot.\n",
      "    * May require cleaning the stovetop afterwards.\n",
      "\n",
      "**2. Electric Kettle:**\n",
      "\n",
      "* **Pros:**\n",
      "    * Extremely fast and efficient.\n",
      "    * Automatic shut-off feature prevents boiling dry.\n",
      "    * No stovetop mess.\n",
      "* **Cons:**\n",
      "    * Limited capacity (usually 1-1.5 liters).\n",
      "    * Can be bulky to store.\n",
      "    * May be more expensive than a stovetop method.\n",
      "\n",
      "**3. Microwave:**\n",
      "\n",
      "* **Pros:**\n",
      "    * Fast for small quantities of water.\n",
      "    * Convenient for individual use.\n",
      "* **Cons:**\n",
      "    * Can be inconsistent in heating.\n",
      "    * Can be dangerous if not used properly (risk of boiling over).\n",
      "    * Not suitable for large quantities.\n",
      "    * May not reach full boiling point in some microwaves.\n",
      "\n",
      "**4. Camping Stove:**\n",
      "\n",
      "* **Pros:**\n",
      "    * Portable and convenient for outdoor use.\n",
      "    * Can be used with different fuel sources.\n",
      "* **Cons:**\n",
      "    * Can be slow and inefficient.\n",
      "    * Requires fuel and proper handling.\n",
      "\n",
      "**Tips for Choosing the Best Method:**\n",
      "\n",
      "* **Quantity:** If you need a large amount of water, stovetop or a large electric kettle are best.\n",
      "* **Speed:** For quick boiling, an electric kettle or microwave is ideal.\n",
      "* **Convenience:** For ease of use and minimal mess, an electric kettle is the most convenient.\n",
      "* **Budget:** Stovetop is the cheapest option, followed by microwave and then electric kettle.\n",
      "* **Outdoor Use:** A camping stove is essential for boiling water outdoors.\n",
      "\n",
      "Ultimately, the best method for boiling water depends on your specific needs and preferences. \n",
      "\n"
     ]
    }
   ],
   "source": [
    "prompt = \"What's the best method of boiling water?\"\n",
    "\n",
    "print(call_gemini(prompt))"
   ]
  },
  {
   "cell_type": "code",
   "execution_count": 12,
   "metadata": {
    "id": "KwUzhud4aA89",
    "tags": []
   },
   "outputs": [
    {
     "name": "stdout",
     "output_type": "stream",
     "text": [
      "The sky appears blue due to a phenomenon called **Rayleigh scattering**. Here's how it works:\n",
      "\n",
      "* **Sunlight is a mixture of all colors.**  When sunlight enters the Earth's atmosphere, it interacts with the tiny gas molecules (nitrogen and oxygen) present. \n",
      "* **Shorter wavelengths scatter more.**  Blue light has a shorter wavelength than other colors in the visible spectrum (red, orange, yellow, green, indigo, violet). This means blue light is scattered more effectively by the gas molecules in the atmosphere. \n",
      "* **Scattered light reaches our eyes.**  As the blue light is scattered in all directions, some of it reaches our eyes, making the sky appear blue.\n",
      "\n",
      "**Here's a simple analogy:**\n",
      "\n",
      "Imagine shining a beam of white light through a prism. The prism separates the white light into its different colors.  In a similar way, the Earth's atmosphere acts like a giant prism, scattering the blue light from the sun.\n",
      "\n",
      "**Other factors:**\n",
      "\n",
      "* **Time of day:** The sky appears bluer at midday when the sun is high in the sky and the sunlight has to travel through less atmosphere. \n",
      "* **Clouds:** Clouds block sunlight, making the sky appear less blue or even gray. \n",
      "* **Pollution:** Air pollution can scatter more light, making the sky appear hazy or even brown.\n",
      "\n",
      "**Why is the sunset red?**\n",
      "\n",
      "When the sun is low on the horizon, sunlight has to travel through a much thicker layer of atmosphere.  This means that more of the blue light is scattered away, leaving the longer wavelengths of red and orange light to reach our eyes, creating the beautiful red and orange hues of sunsets. \n",
      "\n"
     ]
    }
   ],
   "source": [
    "prompt = \"Why is the sky blue?\"\n",
    "\n",
    "print(call_gemini(prompt))"
   ]
  },
  {
   "cell_type": "markdown",
   "metadata": {
    "id": "PJIL2RTQaGcT"
   },
   "source": [
    "### Watch out for hallucinations"
   ]
  },
  {
   "cell_type": "markdown",
   "metadata": {
    "id": "8Y8kYxrSaHE9"
   },
   "source": [
    "Although LLMs have been trained on a large amount of data, they can generate text containing statements not grounded in truth or reality; these responses from the LLM are often referred to as \"hallucinations\" due to their limited memorization capabilities. Note that simply prompting the LLM to provide a citation isn't a fix to this problem, as there are instances of LLMs providing false or inaccurate citations. Dealing with hallucinations is a fundamental challenge of LLMs and an ongoing research area, so it is important to be cognizant that LLMs may seem to give you confident, correct-sounding statements that are in fact incorrect.\n",
    "\n",
    "Note that if you intend to use LLMs for the creative use cases, hallucinating could actually be quite useful."
   ]
  },
  {
   "cell_type": "markdown",
   "metadata": {
    "id": "8NY5nAGeaJYS"
   },
   "source": [
    "Try the prompt like the one below repeatedly. We set the temperature to 1.0 so that it takes more risks in its choices. It's possible that it may provide an inaccurate, but confident answer."
   ]
  },
  {
   "cell_type": "code",
   "execution_count": 13,
   "metadata": {
    "id": "QALPjEILaM62",
    "tags": []
   },
   "outputs": [
    {
     "name": "stdout",
     "output_type": "stream",
     "text": [
      "I do not have access to real-time information, including the current date. To find out what day it is, you can check a calendar or ask a voice assistant like Siri or Google Assistant. \n",
      "\n"
     ]
    }
   ],
   "source": [
    "generation_config = GenerationConfig(temperature=1.0)\n",
    "\n",
    "prompt = \"What day is it today?\"\n",
    "\n",
    "print(call_gemini(prompt, generation_config))"
   ]
  },
  {
   "cell_type": "markdown",
   "metadata": {
    "id": "BRkwzbgRbhKt"
   },
   "source": [
    "Since LLMs do not have access to real-time information without further integrations, you may have noticed it hallucinates what day it is today in some of the outputs."
   ]
  },
  {
   "cell_type": "markdown",
   "metadata": {
    "id": "3c811e310d02"
   },
   "source": [
    "### Using system instructions to guardrail the model from irrelevant responses\n",
    "\n",
    "How can we attempt to reduce the chances of irrelevant responses and hallucinations?\n",
    "\n",
    "One way is to provide the LLM with [system instructions](https://cloud.google.com/vertex-ai/generative-ai/docs/multimodal/send-chat-prompts-gemini#system-instructions).\n",
    "\n",
    "Let's see how system instructions works and how you can use them to reduce hallucinations or irrelevant questions for a travel chatbot.\n",
    "\n",
    "Suppose we ask a simple question about one of Italy's most famous tourist spots."
   ]
  },
  {
   "cell_type": "code",
   "execution_count": 14,
   "metadata": {
    "id": "rB6zJU76biFK",
    "tags": []
   },
   "outputs": [
    {
     "name": "stdout",
     "output_type": "stream",
     "text": [
      "Milan offers a wealth of sightseeing options! To give you the best recommendation, I need a bit more information. What are you interested in seeing? \n",
      "\n",
      "* **Art and history:** Do you want to see famous paintings, sculptures, or historical buildings?\n",
      "* **Fashion and design:** Are you interested in exploring the world of Italian fashion or visiting design museums?\n",
      "* **Food and culture:** Would you like to experience the vibrant food scene or learn about Milanese traditions?\n",
      "\n",
      "Once you tell me what you're most interested in, I can give you a tailored recommendation for the best place for sightseeing in Milan! \n",
      "\n"
     ]
    }
   ],
   "source": [
    "model_travel = GenerativeModel(\n",
    "    model_name=\"gemini-1.5-flash\",\n",
    "    system_instruction=[\n",
    "        \"Hello! You are an AI chatbot for a travel web site.\",\n",
    "        \"Your mission is to provide helpful queries for travelers.\",\n",
    "        \"Remember that before you answer a question, you must check to see if it complies with your mission.\",\n",
    "        \"If not, you can say, Sorry I can't answer that question.\",\n",
    "    ],\n",
    ")\n",
    "\n",
    "chat = model_travel.start_chat()\n",
    "\n",
    "prompt = \"What is the best place for sightseeing in Milan, Italy?\"\n",
    "\n",
    "print(send_message_gemini(chat, prompt))"
   ]
  },
  {
   "cell_type": "markdown",
   "metadata": {
    "id": "WZa-Qcf9cF4A"
   },
   "source": [
    "Now let us pretend to be a user asks the chatbot a question that is unrelated to travel."
   ]
  },
  {
   "cell_type": "code",
   "execution_count": 15,
   "metadata": {
    "id": "AZKBIDr2cGnu",
    "tags": []
   },
   "outputs": [
    {
     "name": "stdout",
     "output_type": "stream",
     "text": [
      "Sorry, I can't answer that question. I'm designed to help travelers with their trip planning, not provide meal recommendations.  \n",
      "\n",
      "Perhaps you could tell me what kind of food you're looking for in Milan? I might be able to suggest some great restaurants based on your preferences! \n",
      "\n"
     ]
    }
   ],
   "source": [
    "prompt = \"What's for dinner?\"\n",
    "\n",
    "print(send_message_gemini(chat, prompt))"
   ]
  },
  {
   "cell_type": "markdown",
   "metadata": {
    "id": "JiUYIhwpctCy"
   },
   "source": [
    "You can see that this way, a guardrail in the prompt prevented the chatbot from veering off course."
   ]
  },
  {
   "cell_type": "markdown",
   "metadata": {
    "id": "ZuuDhA37cvmP"
   },
   "source": [
    "### Turn generative tasks into classification tasks to reduce output variability"
   ]
  },
  {
   "cell_type": "markdown",
   "metadata": {
    "id": "kUCUrsUzczmb"
   },
   "source": [
    "#### Generative tasks lead to higher output variability"
   ]
  },
  {
   "cell_type": "markdown",
   "metadata": {
    "id": "a1xASHAkc46n"
   },
   "source": [
    "The prompt below results in an open-ended response, useful for brainstorming, but response is highly variable."
   ]
  },
  {
   "cell_type": "code",
   "execution_count": 16,
   "metadata": {
    "id": "nPfXQWIacwRf",
    "tags": []
   },
   "outputs": [
    {
     "name": "stdout",
     "output_type": "stream",
     "text": [
      "Here are some programming activities for high school students, catering to different skill levels and interests:\n",
      "\n",
      "**Beginner Friendly:**\n",
      "\n",
      "* **Build a simple calculator:** This is a classic project for beginners. You'll learn about input/output, basic arithmetic operations, and conditional statements.\n",
      "* **Create a text-based adventure game:** This is a fun way to learn about loops, user input, and story logic.\n",
      "* **Develop a simple website:** Learn the basics of HTML, CSS, and JavaScript to create a basic website with text, images, and links.\n",
      "* **Build a basic chatbot:**  Using Python or a chatbot framework, create a simple program that can respond to basic user queries.\n",
      "* **Try a code-based game creation tool:**  Platforms like Scratch, Blockly, or Code.org allow you to create games with visual programming blocks.\n",
      "\n",
      "**Intermediate Level:**\n",
      "\n",
      "* **Develop a simple mobile app:**  Learn a language like Java (Android) or Swift (iOS) to create a basic app for your phone.\n",
      "* **Create a personal portfolio website:** Showcase your programming skills and projects with a website built using HTML, CSS, and JavaScript. \n",
      "* **Build a simple data visualization tool:** Learn how to use libraries like Matplotlib (Python) or D3.js (JavaScript) to create graphs and charts from data.\n",
      "* **Participate in online coding challenges:** Websites like Codewars, HackerRank, and LeetCode offer a variety of coding challenges to test your skills and learn from others.\n",
      "* **Contribute to open source projects:** Find a project on GitHub that interests you and contribute by fixing bugs, adding features, or improving documentation.\n",
      "\n",
      "**Advanced Level:**\n",
      "\n",
      "* **Build a real-world application:** Apply your skills to a problem you're passionate about, whether it's a personal project or something for your community.\n",
      "* **Learn about machine learning and AI:** Explore libraries like TensorFlow or PyTorch to create AI models for image recognition, natural language processing, or other tasks.\n",
      "* **Create a game with a game engine:** Use Unity or Unreal Engine to create a more complex game with graphics, physics, and other advanced features.\n",
      "* **Contribute to a research project:** Partner with a local university or research lab to contribute to a project using your programming skills.\n",
      "* **Start a blog or online portfolio:** Share your programming knowledge and projects with others, and build your online presence as a programmer.\n",
      "\n",
      "**Tips for Choosing a Project:**\n",
      "\n",
      "* **Choose something you're interested in:** This will keep you motivated and make the learning process more enjoyable.\n",
      "* **Start small and gradually increase complexity:** Don't try to tackle a massive project right away. Start with smaller, achievable goals.\n",
      "* **Seek help when you need it:** Don't be afraid to ask for help from teachers, online communities, or mentors. \n",
      "* **Have fun!** Programming should be a fun and rewarding experience. Experiment, explore, and enjoy the process of learning. \n",
      "\n"
     ]
    }
   ],
   "source": [
    "prompt = \"I'm a high school student. Recommend me a programming activity to improve my skills.\"\n",
    "\n",
    "print(call_gemini(prompt))"
   ]
  },
  {
   "cell_type": "markdown",
   "metadata": {
    "id": "iAmm9wPYc_1o"
   },
   "source": [
    "#### Classification tasks reduces output variability"
   ]
  },
  {
   "cell_type": "markdown",
   "metadata": {
    "id": "VvRpK_0GdCpf"
   },
   "source": [
    "The prompt below results in a choice and may be useful if you want the output to be easier to control."
   ]
  },
  {
   "cell_type": "code",
   "execution_count": 17,
   "metadata": {
    "id": "kYDKh0r2dAqo",
    "tags": []
   },
   "outputs": [
    {
     "name": "stdout",
     "output_type": "stream",
     "text": [
      "It's awesome that you're considering learning a programming language!  All three languages you mentioned have their strengths, but here's a breakdown to help you choose:\n",
      "\n",
      "**a) Learn Python:**\n",
      "\n",
      "* **Why?** Python is incredibly popular and versatile, making it a great choice for a beginner. \n",
      "    * **Easy to learn:**  Python's syntax is clean and readable, making it beginner-friendly.\n",
      "    * **Widely used:**  Python is used for web development, data science, machine learning, scripting, and more.  \n",
      "    * **Large community:** There's a massive Python community with lots of resources, tutorials, and help available online. \n",
      "\n",
      "**b) Learn JavaScript:**\n",
      "\n",
      "* **Why?** JavaScript is the language of the web, essential for interactive websites and web applications. \n",
      "    * **Interactive websites:**  JavaScript powers animations, user interfaces, and dynamic content on websites.\n",
      "    * **Front-end development:**  JavaScript is the core language used for front-end web development.\n",
      "    * **Backend development:**  JavaScript can also be used for server-side development with frameworks like Node.js.\n",
      "\n",
      "**c) Learn Fortran:**\n",
      "\n",
      "* **Why?** Fortran is a powerful language specifically designed for scientific computing and high-performance applications. \n",
      "    * **Scientific computing:**  Fortran is still widely used in scientific fields like physics, engineering, and meteorology.\n",
      "    * **High performance:**  Fortran is known for its speed and efficiency, making it ideal for complex calculations.\n",
      "    * **Legacy systems:**  Many scientific applications are written in Fortran, so understanding it could be valuable for working with these systems.\n",
      "\n",
      "**Which to Choose?**\n",
      "\n",
      "* **If you're interested in web development:**  Learn JavaScript!\n",
      "* **If you want a versatile language with many applications:**  Learn Python!\n",
      "* **If you're interested in scientific computing:**  Learn Fortran! \n",
      "\n",
      "**But the best choice is the one that interests you the most!** \n",
      "\n",
      "* **Think about your interests:**  What kind of projects would you like to build? \n",
      "* **Consider your future goals:**  Do you want to pursue a career in web development, data science, or scientific computing?\n",
      "\n",
      "No matter which language you choose, the skills you learn will be valuable! \n",
      "\n"
     ]
    }
   ],
   "source": [
    "prompt = \"\"\"I'm a high school student. Which of these activities do you suggest and why:\n",
    "a) learn Python\n",
    "b) learn JavaScript\n",
    "c) learn Fortran\n",
    "\"\"\"\n",
    "\n",
    "print(call_gemini(prompt))"
   ]
  },
  {
   "cell_type": "markdown",
   "metadata": {
    "id": "iTd60b1GdIsx"
   },
   "source": [
    "### Improve response quality by including examples"
   ]
  },
  {
   "cell_type": "markdown",
   "metadata": {
    "id": "yJi44NejdJYE"
   },
   "source": [
    "Another way to improve response quality is to add examples in your prompt. The LLM learns in-context from the examples on how to respond. Typically, one to five examples (shots) are enough to improve the quality of responses. Including too many examples can cause the model to over-fit the data and reduce the quality of responses.\n",
    "\n",
    "Similar to classical model training, the quality and distribution of the examples is very important. Pick examples that are representative of the scenarios that you need the model to learn, and keep the distribution of the examples (e.g. number of examples per class in the case of classification) aligned with your actual distribution."
   ]
  },
  {
   "cell_type": "markdown",
   "metadata": {
    "id": "sMbLginWdOKs"
   },
   "source": [
    "#### Zero-shot prompt"
   ]
  },
  {
   "cell_type": "markdown",
   "metadata": {
    "id": "Crh2Loi2dQ0v"
   },
   "source": [
    "Below is an example of zero-shot prompting, where you don't provide any examples to the LLM within the prompt itself."
   ]
  },
  {
   "cell_type": "code",
   "execution_count": 18,
   "metadata": {
    "id": "-7myRc-SdTQ4",
    "tags": []
   },
   "outputs": [
    {
     "name": "stdout",
     "output_type": "stream",
     "text": [
      "Sentiment: **Positive** \n",
      "\n"
     ]
    }
   ],
   "source": [
    "prompt = \"\"\"Decide whether a Tweet's sentiment is positive, neutral, or negative.\n",
    "\n",
    "Tweet: I loved the new YouTube video you made!\n",
    "Sentiment:\n",
    "\"\"\"\n",
    "\n",
    "print(call_gemini(prompt))"
   ]
  },
  {
   "cell_type": "markdown",
   "metadata": {
    "id": "ucRtPn9SdL64"
   },
   "source": [
    "#### One-shot prompt"
   ]
  },
  {
   "cell_type": "markdown",
   "metadata": {
    "id": "rs0gQH2vdYBi"
   },
   "source": [
    "Below is an example of one-shot prompting, where you provide one example to the LLM within the prompt to give some guidance on what type of response you want."
   ]
  },
  {
   "cell_type": "code",
   "execution_count": 19,
   "metadata": {
    "id": "iEq-KxGYdaT5",
    "tags": []
   },
   "outputs": [
    {
     "name": "stdout",
     "output_type": "stream",
     "text": [
      "Sentiment: **negative** \n",
      "\n"
     ]
    }
   ],
   "source": [
    "prompt = \"\"\"Decide whether a Tweet's sentiment is positive, neutral, or negative.\n",
    "\n",
    "Tweet: I loved the new YouTube video you made!\n",
    "Sentiment: positive\n",
    "\n",
    "Tweet: That was awful. Super boring 😠\n",
    "Sentiment:\n",
    "\"\"\"\n",
    "\n",
    "print(call_gemini(prompt))"
   ]
  },
  {
   "cell_type": "markdown",
   "metadata": {
    "id": "JnKLjJzmdfL_"
   },
   "source": [
    "#### Few-shot prompt"
   ]
  },
  {
   "cell_type": "markdown",
   "metadata": {
    "id": "6Zv-9F5OdgI_"
   },
   "source": [
    "Below is an example of few-shot prompting, where you provide a few examples to the LLM within the prompt to give some guidance on what type of response you want."
   ]
  },
  {
   "cell_type": "code",
   "execution_count": 20,
   "metadata": {
    "id": "u37P9tG4dk9S",
    "tags": []
   },
   "outputs": [
    {
     "name": "stdout",
     "output_type": "stream",
     "text": [
      "Sentiment: **Positive** \n",
      "\n",
      "Here's why:\n",
      "\n",
      "* **\"Surprised me about this video - it was actually original\"**: This implies a positive surprise, suggesting the video is good.\n",
      "* **\"Not the same old recycled stuff\"**:  This is a clear indication of something positive, as it contrasts the video favorably with other content.\n",
      "* **\"Watch it - you will not regret it\"**: This is a strong recommendation, signifying a positive sentiment. \n",
      "\n"
     ]
    }
   ],
   "source": [
    "prompt = \"\"\"Decide whether a Tweet's sentiment is positive, neutral, or negative.\n",
    "\n",
    "Tweet: I loved the new YouTube video you made!\n",
    "Sentiment: positive\n",
    "\n",
    "Tweet: That was awful. Super boring 😠\n",
    "Sentiment: negative\n",
    "\n",
    "Tweet: Something surprised me about this video - it was actually original. It was not the same old recycled stuff that I always see. Watch it - you will not regret it.\n",
    "Sentiment:\n",
    "\"\"\"\n",
    "\n",
    "print(call_gemini(prompt))"
   ]
  },
  {
   "cell_type": "markdown",
   "metadata": {
    "id": "wDMD3xb2dvX6"
   },
   "source": [
    "#### Choosing between zero-shot, one-shot, few-shot prompting methods"
   ]
  },
  {
   "cell_type": "markdown",
   "metadata": {
    "id": "s92W0YpNdxJp"
   },
   "source": [
    "Which prompt technique to use will solely depends on your goal. The zero-shot prompts are more open-ended and can give you creative answers, while one-shot and few-shot prompts teach the model how to behave so you can get more predictable answers that are consistent with the examples provided."
   ]
  },
  {
   "cell_type": "code",
   "execution_count": null,
   "metadata": {},
   "outputs": [],
   "source": []
  }
 ],
 "metadata": {
  "colab": {
   "name": "intro_prompt_design.ipynb",
   "toc_visible": true
  },
  "environment": {
   "kernel": "conda-base-py",
   "name": "workbench-notebooks.m126",
   "type": "gcloud",
   "uri": "us-docker.pkg.dev/deeplearning-platform-release/gcr.io/workbench-notebooks:m126"
  },
  "kernelspec": {
   "display_name": "Python 3 (ipykernel) (Local)",
   "language": "python",
   "name": "conda-base-py"
  },
  "language_info": {
   "codemirror_mode": {
    "name": "ipython",
    "version": 3
   },
   "file_extension": ".py",
   "mimetype": "text/x-python",
   "name": "python",
   "nbconvert_exporter": "python",
   "pygments_lexer": "ipython3",
   "version": "3.10.15"
  }
 },
 "nbformat": 4,
 "nbformat_minor": 4
}
